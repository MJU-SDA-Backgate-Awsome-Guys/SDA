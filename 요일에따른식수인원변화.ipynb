version https://git-lfs.github.com/spec/v1
oid sha256:48d41d02e7b7b6237051e4bcfc39e3d67f177673908467688f19d634f4f9de8c
size 270723
